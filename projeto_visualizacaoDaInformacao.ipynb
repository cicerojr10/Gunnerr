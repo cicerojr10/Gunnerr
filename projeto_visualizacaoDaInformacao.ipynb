{
  "nbformat": 4,
  "nbformat_minor": 0,
  "metadata": {
    "colab": {
      "provenance": [],
      "authorship_tag": "ABX9TyPjuDJVXb/idg+P9GgEakwO",
      "include_colab_link": true
    },
    "kernelspec": {
      "name": "python3",
      "display_name": "Python 3"
    },
    "language_info": {
      "name": "python"
    }
  },
  "cells": [
    {
      "cell_type": "markdown",
      "metadata": {
        "id": "view-in-github",
        "colab_type": "text"
      },
      "source": [
        "<a href=\"https://colab.research.google.com/github/cicerojr10/Gunnerr/blob/master/projeto_visualizacaoDaInformacao.ipynb\" target=\"_parent\"><img src=\"https://colab.research.google.com/assets/colab-badge.svg\" alt=\"Open In Colab\"/></a>"
      ]
    },
    {
      "cell_type": "code",
      "execution_count": null,
      "metadata": {
        "id": "kBPYBWv2esFi"
      },
      "outputs": [],
      "source": []
    },
    {
      "cell_type": "markdown",
      "source": [
        "# Projeto (NOME DO DATASET)\n",
        "\n",
        "Cícero Quintino Junior - Ciência da Computação\n",
        "\n",
        "RGM: 31422306\n"
      ],
      "metadata": {
        "id": "UKT_MCVEfNLi"
      }
    },
    {
      "cell_type": "code",
      "source": [
        "import matplotlib.pyplot as plt\n",
        "import numpy as np\n",
        "import pandas as pd"
      ],
      "metadata": {
        "id": "oVV0TU_IfjV8"
      },
      "execution_count": 2,
      "outputs": []
    },
    {
      "cell_type": "code",
      "source": [
        "dados = pd.read_csv(\"report_2018-2019.csv\")"
      ],
      "metadata": {
        "id": "LeBXdLLijD72"
      },
      "execution_count": 7,
      "outputs": []
    },
    {
      "cell_type": "code",
      "source": [
        "dados"
      ],
      "metadata": {
        "id": "1rYDNIOa4eWB"
      },
      "execution_count": null,
      "outputs": []
    },
    {
      "cell_type": "code",
      "source": [
        "dados['Country or region']\n",
        "dados['Score']"
      ],
      "metadata": {
        "colab": {
          "base_uri": "https://localhost:8080/"
        },
        "id": "t2PJZbhV3JHD",
        "outputId": "58d82557-b220-4b4a-9bf1-7555c4497974"
      },
      "execution_count": 11,
      "outputs": [
        {
          "output_type": "execute_result",
          "data": {
            "text/plain": [
              "0      3.203\n",
              "1      3.632\n",
              "2      4.719\n",
              "3      4.586\n",
              "4      5.211\n",
              "       ...  \n",
              "307    3.355\n",
              "308    4.107\n",
              "309    4.377\n",
              "310    3.663\n",
              "311    3.692\n",
              "Name: Score, Length: 312, dtype: float64"
            ]
          },
          "metadata": {},
          "execution_count": 11
        }
      ]
    },
    {
      "cell_type": "code",
      "source": [
        "plt.bar(dados['Country or region'],dados['Score'])"
      ],
      "metadata": {
        "colab": {
          "base_uri": "https://localhost:8080/",
          "height": 447
        },
        "id": "-HHAjuAr3eoz",
        "outputId": "a17ba1b8-27ce-4786-f501-8b93aa941c58"
      },
      "execution_count": 12,
      "outputs": [
        {
          "output_type": "execute_result",
          "data": {
            "text/plain": [
              "<BarContainer object of 312 artists>"
            ]
          },
          "metadata": {},
          "execution_count": 12
        },
        {
          "output_type": "display_data",
          "data": {
            "text/plain": [
              "<Figure size 640x480 with 1 Axes>"
            ],
            "image/png": "[encoded data removed]"
          },
          "metadata": {}
        }
      ]
    },
    {
      "cell_type": "code",
      "source": [
        "dados['Country or region'].unique().size"
      ],
      "metadata": {
        "colab": {
          "base_uri": "https://localhost:8080/"
        },
        "id": "B_4_ZSLT3yrC",
        "outputId": "2870164b-ba7b-4682-d936-a6db98b73e59"
      },
      "execution_count": 14,
      "outputs": [
        {
          "output_type": "execute_result",
          "data": {
            "text/plain": [
              "160"
            ]
          },
          "metadata": {},
          "execution_count": 14
        }
      ]
    },
    {
      "cell_type": "code",
      "source": [],
      "metadata": {
        "id": "2ymRn4kg4Fiq"
      },
      "execution_count": null,
      "outputs": []
    }
  ]
}